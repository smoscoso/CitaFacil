{
  "nbformat": 4,
  "nbformat_minor": 0,
  "metadata": {
    "colab": {
      "provenance": [],
      "authorship_tag": "ABX9TyNI6B57H39/nUCYRXMPaCW1",
      "include_colab_link": true
    },
    "kernelspec": {
      "name": "python3",
      "display_name": "Python 3"
    },
    "language_info": {
      "name": "python"
    }
  },
  "cells": [
    {
      "cell_type": "markdown",
      "metadata": {
        "id": "view-in-github",
        "colab_type": "text"
      },
      "source": [
        "<a href=\"https://colab.research.google.com/github/smoscoso/CitaFacil/blob/master/CIENCIA_DE_DATOS1.ipynb\" target=\"_parent\"><img src=\"https://colab.research.google.com/assets/colab-badge.svg\" alt=\"Open In Colab\"/></a>"
      ]
    },
    {
      "cell_type": "code",
      "source": [
        "!pip install mysql-connector-python"
      ],
      "metadata": {
        "colab": {
          "base_uri": "https://localhost:8080/"
        },
        "id": "pzjl5F9Ui3JJ",
        "outputId": "8dd4ce43-48da-456b-8cbe-35be9af045af"
      },
      "execution_count": null,
      "outputs": [
        {
          "output_type": "stream",
          "name": "stdout",
          "text": [
            "Collecting mysql-connector-python\n",
            "  Downloading mysql_connector_python-9.0.0-cp310-cp310-manylinux_2_17_x86_64.whl.metadata (2.0 kB)\n",
            "Downloading mysql_connector_python-9.0.0-cp310-cp310-manylinux_2_17_x86_64.whl (19.3 MB)\n",
            "\u001b[2K   \u001b[90m━━━━━━━━━━━━━━━━━━━━━━━━━━━━━━━━━━━━━━━━\u001b[0m \u001b[32m19.3/19.3 MB\u001b[0m \u001b[31m4.8 MB/s\u001b[0m eta \u001b[36m0:00:00\u001b[0m\n",
            "\u001b[?25hInstalling collected packages: mysql-connector-python\n",
            "Successfully installed mysql-connector-python-9.0.0\n"
          ]
        }
      ]
    },
    {
      "cell_type": "code",
      "execution_count": null,
      "metadata": {
        "colab": {
          "base_uri": "https://localhost:8080/"
        },
        "id": "Zt9tW2pyh522",
        "outputId": "785f3950-15c6-4caa-bf22-a8af2e90424c"
      },
      "outputs": [
        {
          "output_type": "stream",
          "name": "stdout",
          "text": [
            "Consultando tabla: current_dept_emp\n",
            "(10001, 'd005', datetime.date(1986, 6, 26), datetime.date(9999, 1, 1))\n",
            "(10002, 'd007', datetime.date(1996, 8, 3), datetime.date(9999, 1, 1))\n",
            "(10003, 'd004', datetime.date(1995, 12, 3), datetime.date(9999, 1, 1))\n",
            "(10004, 'd004', datetime.date(1986, 12, 1), datetime.date(9999, 1, 1))\n",
            "(10005, 'd003', datetime.date(1989, 9, 12), datetime.date(9999, 1, 1))\n",
            "------------------------------\n",
            "Consultando tabla: days_off\n",
            "------------------------------\n",
            "Consultando tabla: departments\n",
            "('d009', 'Customer Service')\n",
            "('d005', 'Development')\n",
            "('d002', 'Finance')\n",
            "('d003', 'Human Resources')\n",
            "('d001', 'Marketing')\n",
            "------------------------------\n",
            "Consultando tabla: dept_emp\n",
            "(10001, 'd005', datetime.date(1986, 6, 26), datetime.date(9999, 1, 1))\n",
            "(10002, 'd007', datetime.date(1996, 8, 3), datetime.date(9999, 1, 1))\n",
            "(10003, 'd004', datetime.date(1995, 12, 3), datetime.date(9999, 1, 1))\n",
            "(10004, 'd004', datetime.date(1986, 12, 1), datetime.date(9999, 1, 1))\n",
            "(10005, 'd003', datetime.date(1989, 9, 12), datetime.date(9999, 1, 1))\n",
            "------------------------------\n",
            "Consultando tabla: dept_emp_latest_date\n",
            "(10001, datetime.date(1986, 6, 26), datetime.date(9999, 1, 1))\n",
            "(10002, datetime.date(1996, 8, 3), datetime.date(9999, 1, 1))\n",
            "(10003, datetime.date(1995, 12, 3), datetime.date(9999, 1, 1))\n",
            "(10004, datetime.date(1986, 12, 1), datetime.date(9999, 1, 1))\n",
            "(10005, datetime.date(1989, 9, 12), datetime.date(9999, 1, 1))\n",
            "------------------------------\n",
            "Consultando tabla: dept_manager\n",
            "(110022, 'd001', datetime.date(1985, 1, 1), datetime.date(1991, 10, 1))\n",
            "(110039, 'd001', datetime.date(1991, 10, 1), datetime.date(9999, 1, 1))\n",
            "(110085, 'd002', datetime.date(1985, 1, 1), datetime.date(1989, 12, 17))\n",
            "(110114, 'd002', datetime.date(1989, 12, 17), datetime.date(9999, 1, 1))\n",
            "(110183, 'd003', datetime.date(1985, 1, 1), datetime.date(1992, 3, 21))\n",
            "------------------------------\n",
            "Consultando tabla: employees\n",
            "(10001, datetime.date(1953, 9, 2), 'Georgi', 'Facello', 'M', datetime.date(1986, 6, 26))\n",
            "(10002, datetime.date(1964, 6, 2), 'Bezalel', 'Simmel', 'F', datetime.date(1985, 11, 21))\n",
            "(10003, datetime.date(1959, 12, 3), 'Parto', 'Bamford', 'M', datetime.date(1986, 8, 28))\n",
            "(10004, datetime.date(1954, 5, 1), 'Chirstian', 'Koblick', 'M', datetime.date(1986, 12, 1))\n",
            "(10005, datetime.date(1955, 1, 21), 'Kyoichi', 'Maliniak', 'M', datetime.date(1989, 9, 12))\n",
            "------------------------------\n",
            "Consultando tabla: salaries\n",
            "(10009, 60929, datetime.date(1985, 2, 18), datetime.date(1986, 2, 18))\n",
            "(10013, 40000, datetime.date(1985, 10, 20), datetime.date(1986, 10, 20))\n",
            "(10048, 40000, datetime.date(1985, 2, 24), datetime.date(1986, 2, 24))\n",
            "(10064, 40000, datetime.date(1985, 11, 20), datetime.date(1986, 11, 20))\n",
            "(10070, 55999, datetime.date(1985, 10, 14), datetime.date(1986, 10, 14))\n",
            "------------------------------\n",
            "Consultando tabla: titles\n",
            "(10009, 'Assistant Engineer', datetime.date(1985, 2, 18), datetime.date(1990, 2, 18))\n",
            "(10013, 'Senior Staff', datetime.date(1985, 10, 20), datetime.date(9999, 1, 1))\n",
            "(10048, 'Engineer', datetime.date(1985, 2, 24), datetime.date(1987, 1, 27))\n",
            "(10064, 'Staff', datetime.date(1985, 11, 20), datetime.date(1992, 3, 2))\n",
            "(10070, 'Technique Leader', datetime.date(1985, 10, 14), datetime.date(9999, 1, 1))\n",
            "------------------------------\n"
          ]
        }
      ],
      "source": [
        "\n",
        "import mysql.connector\n",
        "\n",
        "# connect db\n",
        "conexion = mysql.connector.connect(\n",
        "    host=\"3.21.236.8\",\n",
        "    user=\"studentsucundi\",\n",
        "    password=\"mami_prende_la_radi0\",\n",
        "    port=\"3306\",\n",
        "    database=\"employees\"\n",
        ")\n",
        "cursor = conexion.cursor()\n",
        "\n",
        "\n",
        "# query\n",
        "cursor.execute(\"SHOW TABLES\")\n",
        "tablas = cursor.fetchall()\n",
        "\n",
        "for tabla in tablas:\n",
        "    nombre_tabla = tabla[0]\n",
        "    print(f\"Consultando tabla: {nombre_tabla}\")\n",
        "\n",
        "    consulta = f\"SELECT * FROM {nombre_tabla} LIMIT 5\"\n",
        "    cursor.execute(consulta)\n",
        "    resultados = cursor.fetchall()\n",
        "\n",
        "    # print\n",
        "    for fila in resultados:\n",
        "        print(fila)\n",
        "    print(\"-\" * 30)\n",
        "\n",
        "conexion.close()\n"
      ]
    },
    {
      "cell_type": "code",
      "source": [
        "\n",
        "import mysql.connector\n",
        "conexion = mysql.connector.connect(\n",
        "    host=\"18.116.82.240\",\n",
        "    user=\"studentsucundi\",\n",
        "    password=\"mami_prende_la_radi0\",\n",
        "    port=\"3306\",\n",
        "    database=\"employees\"\n",
        ")\n",
        "\n",
        "cursor = conexion.cursor()\n",
        "\n",
        "\n",
        "consulta = \"SELECT * FROM departments ORDER BY dept_name ASC\"\n",
        "\n",
        "\n",
        "cursor.execute(consulta)\n",
        "\n",
        "resultados = cursor.fetchall()\n",
        "\n",
        "for fila in resultados:\n",
        "    print(fila)\n",
        "\n",
        "cursor.close()\n",
        "conexion.close()\n"
      ],
      "metadata": {
        "id": "2abAO9nnnbpK",
        "colab": {
          "base_uri": "https://localhost:8080/"
        },
        "outputId": "7af62f60-53d2-459e-f9dd-72ebadc4fa9f"
      },
      "execution_count": null,
      "outputs": [
        {
          "output_type": "stream",
          "name": "stdout",
          "text": [
            "('d009', 'Customer Service')\n",
            "('d005', 'Development')\n",
            "('d002', 'Finance')\n",
            "('d003', 'Human Resources')\n",
            "('d001', 'Marketing')\n",
            "('d004', 'Production')\n",
            "('d006', 'Quality Management')\n",
            "('d008', 'Research')\n",
            "('d007', 'Sales')\n"
          ]
        }
      ]
    },
    {
      "cell_type": "markdown",
      "source": [],
      "metadata": {
        "id": "LPmz-QmivFbL"
      }
    },
    {
      "cell_type": "code",
      "source": [
        "\n",
        "!pip install names\n",
        "import mysql.connector\n",
        "import names\n",
        "\n",
        "# connect db\n",
        "conexion = mysql.connector.connect(\n",
        "    host=\"18.116.82.240\",\n",
        "    user=\"studentsucundi\",\n",
        "    password=\"mami_prende_la_radi0\",\n",
        "    port=\"3306\",\n",
        "    database=\"employees\"\n",
        ")\n",
        "cursor = conexion.cursor()\n",
        "\n",
        "# Create table\n",
        "cursor.execute(\"CREATE TABLE IF NOT EXISTS puto_el_que_lo_lea (id INT PRIMARY KEY, nombre VARCHAR(255))\")\n",
        "\n",
        "# Insert data\n",
        "for i in range(1, 11):  # Inserting 10 records\n",
        "    nombre_aleatorio = names.get_full_name()\n",
        "    cursor.execute(\"INSERT INTO puto_el_que_lo_lea (id, nombre) VALUES (%s, %s)\", (i, nombre_aleatorio))\n",
        "\n",
        "conexion.commit()  # Commit the changes to the database\n",
        "\n",
        "print(\"Tabla creada y datos insertados exitosamente.\")\n",
        "\n",
        "cursor.close()\n",
        "conexion.close()"
      ],
      "metadata": {
        "colab": {
          "base_uri": "https://localhost:8080/"
        },
        "id": "ixbEAee8i0OY",
        "outputId": "34005136-5fbc-479b-9bd3-ac78c5992a41"
      },
      "execution_count": null,
      "outputs": [
        {
          "output_type": "stream",
          "name": "stdout",
          "text": [
            "Requirement already satisfied: names in /usr/local/lib/python3.10/dist-packages (0.3.0)\n",
            "Tabla creada y datos insertados exitosamente.\n"
          ]
        }
      ]
    },
    {
      "cell_type": "code",
      "source": [
        "\n",
        "import mysql.connector\n",
        "\n",
        "# connect db\n",
        "conexion = mysql.connector.connect(\n",
        "    host=\"18.116.82.240\",\n",
        "    user=\"studentsucundi\",\n",
        "    password=\"mami_prende_la_radi0\",\n",
        "    port=\"3306\",\n",
        "    database=\"employees\"\n",
        ")\n",
        "cursor = conexion.cursor()\n",
        "\n",
        "# Listar todas las tablas\n",
        "cursor.execute(\"SHOW TABLES\")\n",
        "tablas = cursor.fetchall()\n",
        "\n",
        "print(\"Tablas en la base de datos:\")\n",
        "for tabla in tablas:\n",
        "    print(tabla[0])\n",
        "\n",
        "cursor.close()\n",
        "conexion.close()"
      ],
      "metadata": {
        "colab": {
          "base_uri": "https://localhost:8080/"
        },
        "id": "6tys7F1xtCh3",
        "outputId": "14bdde90-2779-4183-9061-2b23d9eccb86"
      },
      "execution_count": null,
      "outputs": [
        {
          "output_type": "stream",
          "name": "stdout",
          "text": [
            "Tablas en la base de datos:\n",
            "current_dept_emp\n",
            "days_off\n",
            "departments\n",
            "dept_emp\n",
            "dept_emp_latest_date\n",
            "dept_manager\n",
            "empleados\n",
            "employees\n",
            "numeros_nombres\n",
            "puto_el_que_lo_lea\n",
            "salaries\n",
            "titles\n"
          ]
        }
      ]
    },
    {
      "cell_type": "code",
      "source": [
        "import mysql.connector\n",
        "\n",
        "\n",
        "# connect db\n",
        "conexion = mysql.connector.connect(\n",
        "    host=\"18.116.82.240\",\n",
        "    user=\"studentsucundi\",\n",
        "    password=\"mami_prende_la_radi0\",\n",
        "    port=\"3306\",\n",
        "    database=\"employees\"\n",
        ")\n",
        "cursor = conexion.cursor()\n",
        "\n",
        "# Cambiar el primer nombre\n",
        "nuevo_nombre = names.get_first_name()\n",
        "cursor.execute(\"UPDATE numeros_nombres SET nombre = %s WHERE id = 1\", (\"Daniel\",))\n",
        "conexion.commit()\n",
        "\n",
        "# Imprimir la tabla\n",
        "cursor.execute(\"SELECT * FROM numeros_nombres\")\n",
        "resultados = cursor.fetchall()\n",
        "\n",
        "for fila in resultados:\n",
        "    print(fila)\n",
        "\n",
        "cursor.close()\n",
        "conexion.close()\n",
        "print(\"Primer nombre actualizado e impreso la tabla.\")"
      ],
      "metadata": {
        "colab": {
          "base_uri": "https://localhost:8080/"
        },
        "id": "xMWZf_6asByR",
        "outputId": "6be883c0-0809-47af-fdaa-696c0cc6f34b"
      },
      "execution_count": null,
      "outputs": [
        {
          "output_type": "stream",
          "name": "stdout",
          "text": [
            "(1, 'Daniel')\n",
            "(2, 'Elbert Gentsy')\n",
            "(3, 'Bradly Wilson')\n",
            "(4, 'Marcia Wood')\n",
            "(5, 'David Dam')\n",
            "(6, 'Krystal Robinson')\n",
            "(7, 'Mary Dixon')\n",
            "(8, 'Bonnie Canclini')\n",
            "(9, 'Robert Ohmen')\n",
            "(10, 'Charles Hines')\n",
            "Primer nombre actualizado e impreso la tabla.\n"
          ]
        }
      ]
    },
    {
      "cell_type": "code",
      "source": [
        "\n",
        "import mysql.connector\n",
        "\n",
        "# connect db\n",
        "conexion = mysql.connector.connect(\n",
        "    host=\"18.116.82.240\",\n",
        "    user=\"studentsucundi\",\n",
        "    password=\"mami_prende_la_radi0\",\n",
        "    port=\"3306\",\n",
        "    database=\"employees\"\n",
        ")\n",
        "cursor = conexion.cursor()\n",
        "\n",
        "# Obtener columnas de la tabla 'salaries'\n",
        "cursor.execute(\"SHOW COLUMNS FROM salaries\")\n",
        "columnas = cursor.fetchall()\n",
        "\n",
        "print(\"Columnas de la tabla 'salaries':\")\n",
        "for columna in columnas:\n",
        "    print(columna[0])  # Imprime el nombre de la columna\n",
        "\n",
        "cursor.close()\n",
        "conexion.close()"
      ],
      "metadata": {
        "colab": {
          "base_uri": "https://localhost:8080/"
        },
        "id": "Hfz6SfuvtO37",
        "outputId": "09cef7d5-6e33-471d-ec42-9176c06d0119"
      },
      "execution_count": null,
      "outputs": [
        {
          "output_type": "stream",
          "name": "stdout",
          "text": [
            "Columnas de la tabla 'salaries':\n",
            "emp_no\n",
            "salary\n",
            "from_date\n",
            "to_date\n"
          ]
        }
      ]
    },
    {
      "cell_type": "code",
      "source": [
        "!pip install mysql-connector-python\n",
        "import mysql.connector\n",
        "from tabulate import tabulate\n",
        "\n",
        "# connect db\n",
        "conexion = mysql.connector.connect(\n",
        "    host=\"18.116.82.240\",\n",
        "    user=\"studentsucundi\",\n",
        "    password=\"mami_prende_la_radi0\",\n",
        "    port=\"3306\",\n",
        "    database=\"employees\"\n",
        ")\n",
        "cursor = conexion.cursor()\n",
        "\n",
        "# Obtener columnas y datos de la tabla 'salaries'\n",
        "cursor.execute(\"SELECT * FROM salaries LIMIT 10\")  # Limitamos a 10 filas para ejemplo\n",
        "resultados = cursor.fetchall()\n",
        "\n",
        "# Obtener nombres de columnas\n",
        "column_names = [desc[0] for desc in cursor.description]\n",
        "\n",
        "# Imprimir tabla usando tabulate\n",
        "print(tabulate(resultados, headers=column_names, tablefmt=\"grid\"))\n",
        "\n",
        "cursor.close()\n",
        "conexion.close()"
      ],
      "metadata": {
        "colab": {
          "base_uri": "https://localhost:8080/"
        },
        "id": "AJJNZiJqtd_e",
        "outputId": "1956ce49-98a6-47e9-8490-0fdd7b9795e8"
      },
      "execution_count": null,
      "outputs": [
        {
          "output_type": "stream",
          "name": "stdout",
          "text": [
            "Requirement already satisfied: mysql-connector-python in /usr/local/lib/python3.10/dist-packages (9.0.0)\n",
            "+----------+----------+-------------+------------+\n",
            "|   emp_no |   salary | from_date   | to_date    |\n",
            "+==========+==========+=============+============+\n",
            "|    10009 |    60929 | 1985-02-18  | 1986-02-18 |\n",
            "+----------+----------+-------------+------------+\n",
            "|    10013 |    40000 | 1985-10-20  | 1986-10-20 |\n",
            "+----------+----------+-------------+------------+\n",
            "|    10048 |    40000 | 1985-02-24  | 1986-02-24 |\n",
            "+----------+----------+-------------+------------+\n",
            "|    10064 |    40000 | 1985-11-20  | 1986-11-20 |\n",
            "+----------+----------+-------------+------------+\n",
            "|    10070 |    55999 | 1985-10-14  | 1986-10-14 |\n",
            "+----------+----------+-------------+------------+\n",
            "|    10098 |    40000 | 1985-05-13  | 1986-05-13 |\n",
            "+----------+----------+-------------+------------+\n",
            "|    10126 |    40000 | 1985-09-08  | 1986-09-08 |\n",
            "+----------+----------+-------------+------------+\n",
            "|    10133 |    40000 | 1985-12-15  | 1986-12-15 |\n",
            "+----------+----------+-------------+------------+\n",
            "|    10137 |    40000 | 1985-02-18  | 1986-02-18 |\n",
            "+----------+----------+-------------+------------+\n",
            "|    10144 |    56720 | 1985-10-14  | 1986-10-14 |\n",
            "+----------+----------+-------------+------------+\n"
          ]
        }
      ]
    },
    {
      "cell_type": "code",
      "source": [
        "\n",
        "import mysql.connector\n",
        "\n",
        "# connect db\n",
        "conexion = mysql.connector.connect(\n",
        "    host=\"18.116.82.240\",\n",
        "    user=\"studentsucundi\",\n",
        "    password=\"mami_prende_la_radi0\",\n",
        "    port=\"3306\",\n",
        "    database=\"employees\"\n",
        ")\n",
        "cursor = conexion.cursor()\n",
        "\n",
        "emp_no = 10009\n",
        "cursor.execute(\"DELETE FROM salaries WHERE emp_no = %s\", (emp_no,))\n",
        "conexion.commit()  # Confirmar los cambios en la base de datos\n",
        "\n",
        "print(f\"Empleado {emp_no} eliminado de la tabla 'salaries'\")\n",
        "\n",
        "cursor.close()\n",
        "conexion.close()"
      ],
      "metadata": {
        "colab": {
          "base_uri": "https://localhost:8080/"
        },
        "id": "M8KcM-dQttP5",
        "outputId": "eeba2b7f-1bc9-4e39-e70c-c0ec4decc339"
      },
      "execution_count": null,
      "outputs": [
        {
          "output_type": "stream",
          "name": "stdout",
          "text": [
            "Empleado 10009 eliminado de la tabla 'salaries'\n"
          ]
        }
      ]
    },
    {
      "cell_type": "markdown",
      "source": [
        "Uso de pandas"
      ],
      "metadata": {
        "id": "qdbSSdKut78h"
      }
    },
    {
      "cell_type": "code",
      "source": [
        "!pip install mysql-connector-python pandas\n",
        "import mysql.connector\n",
        "import pandas as pd\n",
        "\n",
        "# connect db\n",
        "conexion = mysql.connector.connect(\n",
        "    host=\"18.116.82.240\",\n",
        "    user=\"studentsucundi\",\n",
        "    password=\"mami_prende_la_radi0\",\n",
        "    port=\"3306\",\n",
        "    database=\"employees\"\n",
        ")\n",
        "cursor = conexion.cursor()\n",
        "\n",
        "# Obtener datos de la tabla 'salaries'\n",
        "cursor.execute(\"SELECT * FROM salaries\")\n",
        "resultados = cursor.fetchall()\n",
        "\n",
        "# Crear DataFrame de Pandas\n",
        "df = pd.DataFrame(resultados, columns=[desc[0] for desc in cursor.description])\n",
        "\n",
        "cursor.close()\n",
        "conexion.close()\n",
        "\n",
        "# Calcular salario promedio por año\n",
        "salario_promedio_por_año = df.groupby('from_date')['salary'].mean()\n",
        "print(salario_promedio_por_año)\n",
        "\n",
        "# Encontrar el salario máximo y mínimo\n",
        "salario_maximo = df['salary'].max()\n",
        "salario_minimo = df['salary'].min()\n",
        "print(\"Salario máximo:\", salario_maximo)\n",
        "print(\"Salario mínimo:\", salario_minimo)"
      ],
      "metadata": {
        "colab": {
          "base_uri": "https://localhost:8080/"
        },
        "id": "6lnKNWNSt9m8",
        "outputId": "a43cbba9-0a38-4dd7-92cd-fac0607318d8"
      },
      "execution_count": null,
      "outputs": [
        {
          "output_type": "stream",
          "name": "stdout",
          "text": [
            "Requirement already satisfied: mysql-connector-python in /usr/local/lib/python3.10/dist-packages (9.0.0)\n",
            "Requirement already satisfied: pandas in /usr/local/lib/python3.10/dist-packages (2.1.4)\n",
            "Requirement already satisfied: numpy<2,>=1.22.4 in /usr/local/lib/python3.10/dist-packages (from pandas) (1.26.4)\n",
            "Requirement already satisfied: python-dateutil>=2.8.2 in /usr/local/lib/python3.10/dist-packages (from pandas) (2.8.2)\n",
            "Requirement already satisfied: pytz>=2020.1 in /usr/local/lib/python3.10/dist-packages (from pandas) (2024.1)\n",
            "Requirement already satisfied: tzdata>=2022.1 in /usr/local/lib/python3.10/dist-packages (from pandas) (2024.1)\n",
            "Requirement already satisfied: six>=1.5 in /usr/local/lib/python3.10/dist-packages (from python-dateutil>=2.8.2->pandas) (1.16.0)\n",
            "from_date\n",
            "1985-01-01    57290.777778\n",
            "1985-01-14    52070.000000\n",
            "1985-02-01    50292.375000\n",
            "1985-02-02    51036.518519\n",
            "1985-02-03    51244.147541\n",
            "                  ...     \n",
            "2002-07-30    73340.823620\n",
            "2002-07-31    73195.647910\n",
            "2002-08-01    73286.002972\n",
            "2005-11-15    75000.000000\n",
            "2024-08-03    75000.000000\n",
            "Name: salary, Length: 6394, dtype: float64\n",
            "Salario máximo: 158220\n",
            "Salario mínimo: 38623\n"
          ]
        }
      ]
    }
  ]
}